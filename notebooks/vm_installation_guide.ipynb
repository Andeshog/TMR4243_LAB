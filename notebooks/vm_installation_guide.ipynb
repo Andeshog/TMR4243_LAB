{
 "cells": [
  {
   "cell_type": "markdown",
   "metadata": {},
   "source": [
    "### What is a Virtual Machine (VM)?\n",
    "\n",
    "A virtual machine is an emulation of a physical computer that runs an operating system and applications just like a physical machine. However, instead of running on its own hardware, it runs on a host system. Virtual machines allow us to run multiple operating systems simultaneously on the same computer. In this course the lab will use Ubuntu (Linux) to use ROS 2, and all the groups will get to borrow a computer with Ubuntu. However, if you want to also use your own computer, then installing a Virtual Machine with Ubuntu would be a good solution. This guide will show you how."
   ]
  },
  {
   "cell_type": "markdown",
   "metadata": {},
   "source": [
    "### How to install VM with Ubuntu?\n",
    "\n",
    "The first thing you need to do is download VirtualBox, which is the program you run your Virtual Machine through. It can be downloaded from [here](https://www.virtualbox.org/wiki/Downloads).\n",
    "\n"
   ]
  },
  {
   "cell_type": "markdown",
   "metadata": {},
   "source": [
    "# TODO find location to store exported VM"
   ]
  },
  {
   "cell_type": "markdown",
   "metadata": {},
   "source": [
    "### Import the VM\n",
    "\n",
    "After downloading the ova file, open VirtualBox and click \"file\" -> \"Import Appliance...\" and select the ova file. After it has finish the import, you should see the VM to the left under the Tools icon. Click it and log in with the following credentials:\n",
    "\n",
    "name: tmr4243lab\n",
    "\n",
    "pw: ros2iscool"
   ]
  }
 ],
 "metadata": {
  "language_info": {
   "name": "python"
  }
 },
 "nbformat": 4,
 "nbformat_minor": 2
}
