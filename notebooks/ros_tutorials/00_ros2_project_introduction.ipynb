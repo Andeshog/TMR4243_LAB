{
 "cells": [
  {
   "cell_type": "markdown",
   "metadata": {},
   "source": [
    "### ROS 2 Introduction\n",
    "\n",
    "ROS (Robot Operating System) is a widely used framework/middleware in the world of robotics. To explain what it is and how it can help us, let's look at a relevant example.\n",
    "\n",
    "#### DP system using ROS 2\n",
    "Say you want to build up a DP system. You would need a few subsystems like thrust allocation, guidance system, sensors, observer, and the controller. Each of these subsystems can be developed independently, since they are each responsible for their own tasks with their own input/output. In ROS 2 this is called a node. A node can be understood as a process that does one job. For example the thrust allocation node would be responsible for taking the load vector from the controller and distributing the forces to the individual thrusters. Observer node would take in the sensor measurements and estimate the position and velocity of the vessel, and so on.\n",
    "\n",
    "Great, so now we have a set of nodes, each being responsible for some task. It was mentioned that the nodes typically have inputs and outputs, meaning some data in and some data out. In ROS 2, a typical way of sending data between nodes is with topics. The data being sent through topics are called messages. The data sending and receiving is done using a publish-subscribe system. A node can publish a message to a topic, and another node can read that message by subscribing to the topic. For example, the controller takes in two inputs: the estimated position from the observer and the desired position from the guidance system. Here we would need two different topics, since the data coming from the two nodes are not the same."
   ]
  }
 ],
 "metadata": {
  "language_info": {
   "name": "python"
  }
 },
 "nbformat": 4,
 "nbformat_minor": 2
}
