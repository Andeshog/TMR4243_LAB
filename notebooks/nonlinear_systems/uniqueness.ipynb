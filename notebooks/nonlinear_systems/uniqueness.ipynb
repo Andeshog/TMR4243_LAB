{
 "cells": [
  {
   "cell_type": "markdown",
   "metadata": {},
   "source": [
    "# Existance and Uniqueness of Solution"
   ]
  },
  {
   "cell_type": "markdown",
   "metadata": {},
   "source": [
    "_Some python code to plot the functions_"
   ]
  },
  {
   "cell_type": "code",
   "execution_count": 1,
   "metadata": {},
   "outputs": [],
   "source": [
    "import numpy as np\n",
    "from ipywidgets import interact\n",
    "import matplotlib.pyplot as plt\n",
    "\n",
    "\n",
    "def plot_function(func, x1_range=(-5, 5), x2_range=(-5, 5)):\n",
    "    x1 = np.linspace(min(x1_range), max(x1_range), 100)\n",
    "    x2 = np.linspace(min(x2_range), max(x2_range), 100)\n",
    "    X1, X2 = np.meshgrid(x1, x2)\n",
    "\n",
    "    X1dot, X2dot = func(X1, X2)\n",
    "\n",
    "    def update_plot(x1_start=1, x2_start=1):\n",
    "        fig, ax = plt.subplots()\n",
    "        ax.streamplot(X1, X2, X1dot, X2dot, linewidth=1)\n",
    "        ax.plot(x1_start, x2_start, \"ro\", label=\"$x(0)$\")\n",
    "        start_points = np.array([[x1_start], [x2_start]]).T\n",
    "        ax.streamplot(X1, X2, X1dot, X2dot, linewidth=2, start_points=start_points)\n",
    "        ax.set_xlabel(\"$x_1$\")\n",
    "        ax.set_ylabel(\"$x_2$\")\n",
    "        ax.legend()\n",
    "        ax.grid()\n",
    "        plt.show()\n",
    "\n",
    "    interact(\n",
    "        update_plot,\n",
    "        x1_start=(min(x1_range), max(x1_range),0.1),\n",
    "        x2_start=(min(x2_range), max(x2_range),0.1),\n",
    "    )"
   ]
  },
  {
   "cell_type": "markdown",
   "metadata": {},
   "source": [
    "## Example 1\n",
    "\n",
    "$$\n",
    "\\begin{align*}\n",
    "\\dot{x}_1 &= x_1 x_2 \\\\\n",
    "\\dot{x}_2 &= -x_2^2 - \\sin(x_2) \n",
    "\\end{align*}\n",
    "$$"
   ]
  },
  {
   "cell_type": "code",
   "execution_count": 2,
   "metadata": {},
   "outputs": [
    {
     "data": {
      "application/vnd.jupyter.widget-view+json": {
       "model_id": "a5a95b1a17aa40ac8db5430204a7ef98",
       "version_major": 2,
       "version_minor": 0
      },
      "text/plain": [
       "interactive(children=(FloatSlider(value=1.0, description='x1_start', max=10.0, min=-10.0), FloatSlider(value=1…"
      ]
     },
     "metadata": {},
     "output_type": "display_data"
    }
   ],
   "source": [
    "def func(x1, x2):\n",
    "    return x1 * x2, -x1**2 - np.sin(x2)\n",
    "\n",
    "plot_function(func=func, x1_range=(-10, 10), x2_range=(-10, 10))"
   ]
  },
  {
   "cell_type": "markdown",
   "metadata": {},
   "source": [
    "# Example 2\n",
    "$$\n",
    "\\begin{align*}\n",
    "x \\in \\mathbb{R}^2, \\quad \\dot{x} &= Ax, \\quad A = \\begin{bmatrix} 1 & 2 \\\\ 3 & 4 \\end{bmatrix}\n",
    "\\end{align*}\n",
    "$$"
   ]
  },
  {
   "cell_type": "code",
   "execution_count": 3,
   "metadata": {},
   "outputs": [
    {
     "data": {
      "application/vnd.jupyter.widget-view+json": {
       "model_id": "c1587c7219b646e29e330e278a84bdcb",
       "version_major": 2,
       "version_minor": 0
      },
      "text/plain": [
       "interactive(children=(FloatSlider(value=1.0, description='x1_start', max=10.0, min=-10.0), FloatSlider(value=1…"
      ]
     },
     "metadata": {},
     "output_type": "display_data"
    }
   ],
   "source": [
    "def func(x1, x2):\n",
    "    X1_flat = x1.flatten()\n",
    "    X2_flat = x2.flatten()\n",
    "    X = np.vstack((X1_flat, X2_flat))\n",
    "\n",
    "    A = np.array([\n",
    "        [1, 2],\n",
    "        [3, 4]]\n",
    "    )\n",
    "\n",
    "    Xdot = A @ X\n",
    "\n",
    "    X1dot = Xdot[0].reshape(x1.shape)\n",
    "    X2dot = Xdot[1].reshape(x2.shape)\n",
    "    return X1dot, X2dot\n",
    "\n",
    "plot_function(func=func, x1_range=(-10, 10), x2_range=(-10, 10))"
   ]
  },
  {
   "cell_type": "markdown",
   "metadata": {},
   "source": [
    "# Example 3\n",
    "$$\n",
    "\\begin{align*}\n",
    "x \\in \\mathbb{R}^2, \\quad \\dot{x} &= Ax, \\quad A = \\begin{bmatrix} 0 & 0 \\\\ 0 & -1 \\end{bmatrix}\n",
    "\\end{align*}\n",
    "$$"
   ]
  },
  {
   "cell_type": "code",
   "execution_count": 4,
   "metadata": {},
   "outputs": [
    {
     "data": {
      "application/vnd.jupyter.widget-view+json": {
       "model_id": "fcb556af64184223bc8a81202490758e",
       "version_major": 2,
       "version_minor": 0
      },
      "text/plain": [
       "interactive(children=(FloatSlider(value=1.0, description='x1_start', max=10.0, min=-10.0), FloatSlider(value=1…"
      ]
     },
     "metadata": {},
     "output_type": "display_data"
    }
   ],
   "source": [
    "def func(x1, x2):\n",
    "    X1_flat = x1.flatten()\n",
    "    X2_flat = x2.flatten()\n",
    "    X = np.vstack((X1_flat, X2_flat))\n",
    "\n",
    "    A = np.array([\n",
    "        [0, 0],\n",
    "        [0, -1]]\n",
    "    )\n",
    "\n",
    "    Xdot = A @ X\n",
    "\n",
    "    X1dot = Xdot[0].reshape(x1.shape)\n",
    "    X2dot = Xdot[1].reshape(x2.shape)\n",
    "    return X1dot, X2dot\n",
    "\n",
    "plot_function(func=func, x1_range=(-10, 10), x2_range=(-10, 10))"
   ]
  },
  {
   "cell_type": "markdown",
   "metadata": {},
   "source": [
    "# Example 4\n",
    "\n",
    "$$\n",
    "\\begin{align*}\n",
    "\\dot{x} = \\text{sign}(x) |x|^{1/3}\n",
    "\\end{align*}\n",
    "$$"
   ]
  },
  {
   "cell_type": "code",
   "execution_count": 5,
   "metadata": {},
   "outputs": [
    {
     "data": {
      "application/vnd.jupyter.widget-view+json": {
       "model_id": "61d6ca91f8164d7cb01c887b557b4c26",
       "version_major": 2,
       "version_minor": 0
      },
      "text/plain": [
       "interactive(children=(FloatSlider(value=0.0, description='Initial x0', max=2.0, min=-2.0, step=0.01), Output()…"
      ]
     },
     "metadata": {},
     "output_type": "display_data"
    }
   ],
   "source": [
    "import numpy as np\n",
    "import matplotlib.pyplot as plt\n",
    "from ipywidgets import interact, FloatSlider\n",
    "from scipy.integrate import solve_ivp\n",
    "\n",
    "# 1. Define the function f(x)\n",
    "def func1(x):\n",
    "    # Handle x = 0 carefully if you want; np.sign(0) = 0, so it returns 0 anyway.\n",
    "    return np.sign(x) * np.abs(x)**(1/3)\n",
    "\n",
    "# 2. ODE function suitable for solve_ivp (time is first argument, state second)\n",
    "def ode_func1(t, x):\n",
    "    return func1(x)\n",
    "\n",
    "# 3. A helper to plot the phase \"portrait\" (actually, for 1D, it's just f(x) vs x).\n",
    "def plot_phase_line1(ax):\n",
    "    x_vals = np.linspace(-4, 4, 1000)\n",
    "    f_vals = [func1(x) for x in x_vals]\n",
    "    ax.axhline(0, color='black', linewidth=0.8)\n",
    "    ax.plot(x_vals, f_vals, label=r'$\\dot{x} = f(x)$')\n",
    "    ax.set_xlabel(\"x\")\n",
    "    ax.set_ylabel(\"dx/dt\")\n",
    "    ax.set_title(\"1D Phase Plot\")\n",
    "    ax.legend()\n",
    "    # Mark equilibria (where f(x)=0) - obviously x=0 is an equilibrium\n",
    "    ax.scatter(0, 0, color='red', zorder=5)\n",
    "    ax.text(0.05, 0.05, \"Equilibrium at x=0\", color='red')\n",
    "\n",
    "# 4. Interactive function to show the solution for a chosen initial condition\n",
    "@interact(x0=FloatSlider(min=-2, max=2, step=0.01, value=0, description='Initial x0'))\n",
    "def plot_trajectory1(x0):\n",
    "    # We'll integrate from t=0 to t=5 (or more if you like)\n",
    "    t_span = (0, 10)\n",
    "    sol = solve_ivp(ode_func1, t_span, [x0], max_step=0.001, dense_output=True)\n",
    "    t_dense = np.linspace(t_span[0], t_span[1], 300)\n",
    "    x_dense = sol.sol(t_dense)[0]\n",
    "\n",
    "    fig, ax = plt.subplots(1, 2, figsize=(12, 4))\n",
    "\n",
    "    # Left plot: time evolution x(t)\n",
    "    ax[0].plot(t_dense, x_dense, 'b')\n",
    "    ax[0].set_xlabel('t')\n",
    "    ax[0].set_ylabel('x(t)')\n",
    "    ax[0].set_title(f'Trajectory starting at x0={x0:.2f}')\n",
    "    ax[0].grid(True)\n",
    "\n",
    "    # Right plot: phase line\n",
    "    plot_phase_line1(ax[1])\n",
    "    # Overplot the path in the (x, dx/dt) plane\n",
    "    ax[1].plot(x_dense, func1(x_dense), 'r', label='Solution trajectory')\n",
    "    ax[1].legend()\n",
    "\n",
    "    plt.tight_layout()\n",
    "    plt.show()\n"
   ]
  },
  {
   "cell_type": "markdown",
   "metadata": {},
   "source": [
    "# Example 5\n",
    "\n",
    "$$\n",
    "\\begin{align*}\n",
    "\\dot{x} = -x^2 \n",
    "\\end{align*}\n",
    "$$"
   ]
  },
  {
   "cell_type": "code",
   "execution_count": 6,
   "metadata": {},
   "outputs": [
    {
     "data": {
      "application/vnd.jupyter.widget-view+json": {
       "model_id": "25aac55183424f039314c081244e728b",
       "version_major": 2,
       "version_minor": 0
      },
      "text/plain": [
       "interactive(children=(FloatSlider(value=0.0, description='Initial x0', max=2.0, min=-2.0, step=0.01), Output()…"
      ]
     },
     "metadata": {},
     "output_type": "display_data"
    }
   ],
   "source": [
    "def func2(x):\n",
    "    return -x**2\n",
    "\n",
    "def ode_func2(t, x):\n",
    "    return func2(x)\n",
    "\n",
    "def plot_phase_line2(ax):\n",
    "    x_vals = np.linspace(-4, 4, 1000)\n",
    "    f_vals = [func2(x) for x in x_vals]\n",
    "    ax.axhline(0, color='black', linewidth=0.8)\n",
    "    ax.plot(x_vals, f_vals, label=r'$\\dot{x} = f(x)$')\n",
    "    ax.set_xlabel(\"x\")\n",
    "    ax.set_ylabel(\"dx/dt\")\n",
    "    ax.set_title(\"1D Phase Plot\")\n",
    "    ax.legend()\n",
    "    # Mark equilibria (where f(x)=0) - obviously x=0 is an equilibrium\n",
    "    ax.scatter(0, 0, color='red', zorder=5)\n",
    "    ax.text(0.05, 0.05, \"Equilibrium at x=0\", color='red')\n",
    "\n",
    "@interact(x0=FloatSlider(min=-2, max=2, step=0.01, value=0, description='Initial x0'))\n",
    "def plot_trajectory2(x0):\n",
    "    t_span = (0, 10)\n",
    "    sol = solve_ivp(ode_func2, t_span, [x0], max_step=0.001, dense_output=True)\n",
    "    t_dense = np.linspace(t_span[0], t_span[1], 300)\n",
    "    x_dense = sol.sol(t_dense)[0]\n",
    "\n",
    "    fig, ax = plt.subplots(1, 2, figsize=(12, 4))\n",
    "\n",
    "    # Left plot: time evolution x(t)\n",
    "    ax[0].plot(t_dense, x_dense, 'b')\n",
    "    ax[0].set_xlabel('t')\n",
    "    ax[0].set_ylabel('x(t)')\n",
    "    ax[0].set_title(f'Trajectory starting at x0={x0:.2f}')\n",
    "    ax[0].grid(True)\n",
    "\n",
    "    # Right plot: phase line\n",
    "    plot_phase_line2(ax[1])\n",
    "    # Overplot the path in the (x, dx/dt) plane\n",
    "    ax[1].plot(x_dense, func2(x_dense), 'r', label='Solution trajectory')\n",
    "    ax[1].legend()\n",
    "\n",
    "    plt.tight_layout()\n",
    "    plt.show()\n"
   ]
  },
  {
   "cell_type": "code",
   "execution_count": 7,
   "metadata": {},
   "outputs": [
    {
     "data": {
      "application/vnd.jupyter.widget-view+json": {
       "model_id": "f9a5ea3ede5547e5a076347471da2ba7",
       "version_major": 2,
       "version_minor": 0
      },
      "text/plain": [
       "interactive(children=(FloatSlider(value=0.0, description='Initial x0', max=2.0, min=-2.0, step=0.01), Output()…"
      ]
     },
     "metadata": {},
     "output_type": "display_data"
    }
   ],
   "source": [
    "def func3(x):\n",
    "    return -np.tanh(x)\n",
    "\n",
    "def ode_func3(t, x):\n",
    "    return func3(x)\n",
    "\n",
    "def plot_phase_line3(ax):\n",
    "    x_vals = np.linspace(-4, 4, 1000)\n",
    "    f_vals = [func3(x) for x in x_vals]\n",
    "    ax.axhline(0, color='black', linewidth=0.8)\n",
    "    ax.plot(x_vals, f_vals, label=r'$\\dot{x} = f(x)$')\n",
    "    ax.set_xlabel(\"x\")\n",
    "    ax.set_ylabel(\"dx/dt\")\n",
    "    ax.set_title(\"1D Phase Plot\")\n",
    "    ax.legend()\n",
    "    # Mark equilibria (where f(x)=0) - obviously x=0 is an equilibrium\n",
    "    ax.scatter(0, 0, color='red', zorder=5)\n",
    "    ax.text(0.05, 0.05, \"Equilibrium at x=0\", color='red')\n",
    "\n",
    "# 4. Interactive function to show the solution for a chosen initial condition\n",
    "@interact(x0=FloatSlider(min=-2, max=2, step=0.01, value=0, description='Initial x0'))\n",
    "def plot_trajectory3(x0):\n",
    "    # We'll integrate from t=0 to t=5 (or more if you like)\n",
    "    t_span = (0, 10)\n",
    "    sol = solve_ivp(ode_func3, t_span, [x0], max_step=0.001, dense_output=True)\n",
    "    t_dense = np.linspace(t_span[0], t_span[1], 300)\n",
    "    x_dense = sol.sol(t_dense)[0]\n",
    "\n",
    "    fig, ax = plt.subplots(1, 2, figsize=(12, 4))\n",
    "\n",
    "    # Left plot: time evolution x(t)\n",
    "    ax[0].plot(t_dense, x_dense, 'b')\n",
    "    ax[0].set_xlabel('t')\n",
    "    ax[0].set_ylabel('x(t)')\n",
    "    ax[0].set_title(f'Trajectory starting at x0={x0:.2f}')\n",
    "    ax[0].grid(True)\n",
    "\n",
    "    # Right plot: phase line\n",
    "    plot_phase_line3(ax[1])\n",
    "    # Overplot the path in the (x, dx/dt) plane\n",
    "    ax[1].plot(x_dense, func3(x_dense), 'r', label='Solution trajectory')\n",
    "    ax[1].legend()\n",
    "\n",
    "    plt.tight_layout()\n",
    "    plt.show()\n"
   ]
  }
 ],
 "metadata": {
  "kernelspec": {
   "display_name": "sandbox",
   "language": "python",
   "name": "python3"
  },
  "language_info": {
   "codemirror_mode": {
    "name": "ipython",
    "version": 3
   },
   "file_extension": ".py",
   "mimetype": "text/x-python",
   "name": "python",
   "nbconvert_exporter": "python",
   "pygments_lexer": "ipython3",
   "version": "3.12.8"
  }
 },
 "nbformat": 4,
 "nbformat_minor": 2
}
