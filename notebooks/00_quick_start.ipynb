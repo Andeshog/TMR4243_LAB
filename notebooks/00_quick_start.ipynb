{
 "cells": [
  {
   "cell_type": "markdown",
   "metadata": {},
   "source": [
    "# Quick Start"
   ]
  },
  {
   "cell_type": "markdown",
   "metadata": {},
   "source": [
    "## Installation\n",
    "\n",
    "_Install ROS2 and Ubuntu from the official documentation._\n",
    "<div class=\"alert alert-block alert-warning\">\n",
    "⚠️ Do not install ROS2 from source. \n",
    "</div>\n",
    "\n",
    "1. Create a new workspace\n",
    "\n",
    "    ```bash\n",
    "    mkdir -p ~/ros_ws/src\n",
    "    cd ~/ros_ws\n",
    "    colcon build --symlink-install\n",
    "\n",
    "2. Clone the repository in `~/ros_ws/src/`\n",
    "\n",
    "    ```bash\n",
    "    cd ~/ros_ws/src\n",
    "    git clone https://github.com/incebellipipo/TMR4243_CSEI\n",
    "    git clone httos://github.com/incebellipipo/cybership_common\n",
    "    ```\n",
    "\n",
    "3. Install dependencies\n",
    "\n",
    "    ```bash\n",
    "    cd ~/ros_ws\n",
    "    rosdep install --from-paths src --ignore-src -r -y\n",
    "    ```\n",
    "\n",
    "4. Build the workspace\n",
    "\n",
    "    ```bash\n",
    "    cd ~/ros_ws\n",
    "    colcon build --symlink-install\n",
    "    ```\n",
    "\n",
    "5. Source the workspace\n",
    "\n",
    "    ```bash\n",
    "    source ~/ros_ws/install/setup.bash\n",
    "    ```\n",
    "\n",
    "6. Put the following lines to your .bashrc file\n",
    "\n",
    "    Open the `~/.bashrc` file in your favorite text editor and add the following lines at the end of the file.\n",
    "    These editors commonly are `gedit`, `nano`, `vim`, `code`, etc.\n",
    "    This will make the workspace available every time you open a new terminal.\n",
    "\n",
    "    ```bash\n",
    "    source ~/ros_ws/install/setup.bash\n",
    "    ```\n"
   ]
  },
  {
   "cell_type": "markdown",
   "metadata": {},
   "source": [
    "## Update the Template Repository\n",
    "\n",
    "1. Go to the repository folder\n",
    "\n",
    "    ```bash\n",
    "    cd ~/ros_ws/src/TMR4243_CSEI\n",
    "    ```\n",
    "\n",
    "2. Pull the latest changes using `git`\n",
    "\n",
    "    ```bash\n",
    "    git pull origin master\n",
    "    ```\n",
    "\n",
    "    Be careful, this command may cause conflicts if you have made changes to the \n",
    "    repository. If you encounter any conflicts, you should resolve them by aborting\n",
    "    the pull operation using `git merge --abort`. "
   ]
  }
 ],
 "metadata": {
  "kernelspec": {
   "display_name": "Python 3",
   "language": "python",
   "name": "python3"
  },
  "language_info": {
   "codemirror_mode": {
    "name": "ipython",
    "version": 3
   },
   "file_extension": ".py",
   "mimetype": "text/x-python",
   "name": "python",
   "nbconvert_exporter": "python",
   "pygments_lexer": "ipython3",
   "version": "3.10.12"
  }
 },
 "nbformat": 4,
 "nbformat_minor": 2
}
