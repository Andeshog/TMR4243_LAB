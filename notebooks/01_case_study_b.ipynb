{
 "cells": [
  {
   "cell_type": "markdown",
   "metadata": {},
   "source": [
    "**Case Study - B** To run the Observer \n",
    "\n",
    "```bash\n",
    "ros2 launch template_observer observer.launch.py\n",
    "```"
   ]
  },
  {
   "cell_type": "code",
   "execution_count": 2,
   "metadata": {
    "vscode": {
     "languageId": "shellscript"
    }
   },
   "outputs": [
    {
     "name": "stdout",
     "output_type": "stream",
     "text": [
      "[INFO] [launch]: All log files can be found below /home/cem/.ros/log/2024-04-11-01-12-26-593602-NTNU27923-49640\n",
      "[INFO] [launch]: Default logging verbosity is set to INFO\n",
      "[INFO] [observer_node.py-1]: process started with pid [49642]\n",
      "^C\n",
      "[WARNING] [launch]: user interrupted with ctrl-c (SIGINT)\n",
      "[observer_node.py-1] Traceback (most recent call last):\n",
      "[observer_node.py-1]   File \"/home/cem/mclab/ros_ws/install/template_observer/lib/template_observer/observer_node.py\", line 106, in <module>\n",
      "[observer_node.py-1]     main()\n",
      "[observer_node.py-1]   File \"/home/cem/mclab/ros_ws/install/template_observer/lib/template_observer/observer_node.py\", line 102, in main\n",
      "[observer_node.py-1]     rclpy.spin(node)\n",
      "[observer_node.py-1]   File \"/opt/ros/humble/local/lib/python3.10/dist-packages/rclpy/__init__.py\", line 222, in spin\n",
      "[observer_node.py-1]     executor.spin_once()\n",
      "[observer_node.py-1]   File \"/opt/ros/humble/local/lib/python3.10/dist-packages/rclpy/executors.py\", line 739, in spin_once\n",
      "[observer_node.py-1]     self._spin_once_impl(timeout_sec)\n",
      "[observer_node.py-1]   File \"/opt/ros/humble/local/lib/python3.10/dist-packages/rclpy/executors.py\", line 728, in _spin_once_impl\n",
      "[observer_node.py-1]     handler, entity, node = self.wait_for_ready_callbacks(timeout_sec=timeout_sec)\n",
      "[observer_node.py-1]   File \"/opt/ros/humble/local/lib/python3.10/dist-packages/rclpy/executors.py\", line 711, in wait_for_ready_callbacks\n",
      "[observer_node.py-1]     return next(self._cb_iter)\n",
      "[observer_node.py-1]   File \"/opt/ros/humble/local/lib/python3.10/dist-packages/rclpy/executors.py\", line 608, in _wait_for_ready_callbacks\n",
      "[observer_node.py-1]     wait_set.wait(timeout_nsec)\n",
      "[observer_node.py-1] KeyboardInterrupt\n",
      "[ERROR] [observer_node.py-1]: process has died [pid 49642, exit code -2, cmd '/home/cem/mclab/ros_ws/install/template_observer/lib/template_observer/observer_node.py --ros-args -r __node:=node_e3591e3c_observer --params-file /home/cem/mclab/ros_ws/install/template_observer/share/template_observer/param/config.yaml'].\n"
     ]
    }
   ],
   "source": [
    "! ros2 launch template_observer observer.launch.py"
   ]
  }
 ],
 "metadata": {
  "kernelspec": {
   "display_name": "Python 3",
   "language": "python",
   "name": "python3"
  },
  "language_info": {
   "codemirror_mode": {
    "name": "ipython",
    "version": 3
   },
   "file_extension": ".py",
   "mimetype": "text/x-python",
   "name": "python",
   "nbconvert_exporter": "python",
   "pygments_lexer": "ipython3",
   "version": "3.10.12"
  }
 },
 "nbformat": 4,
 "nbformat_minor": 2
}
