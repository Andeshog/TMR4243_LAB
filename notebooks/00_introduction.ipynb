{
 "cells": [
  {
   "cell_type": "markdown",
   "metadata": {},
   "source": [
    "# Quick Start Guide"
   ]
  },
  {
   "cell_type": "markdown",
   "metadata": {},
   "source": [
    "## Introduction\n",
    "\n",
    "In this lab, we are using ROS2 with Python3 on Ubuntu 22.04. It requires a basic \n",
    "understanding of GNU/Linux. Most of the time, we will interact with the robot \n",
    "and the simulation environment using the command line. We will develop our code\n",
    "using Python and and Visual Studio Code IDE."
   ]
  },
  {
   "cell_type": "markdown",
   "metadata": {},
   "source": [
    "## Overview of Command Line Tools \n",
    "\n",
    "Most common tools and commands are already installed in the environment. They \n",
    "are listed in the table below:\n",
    "\n",
    "| Tool/Command | Description |\n",
    "| --- | --- |\n",
    "| `ros2` | Command-line tool for working with ROS2 |\n",
    "| `colcon` | Command-line tool for building ROS2 packages |\n",
    "| `ssh` | Secure Shell (SSH) protocol for remote access |\n",
    "| `code` | Command to run Visual Studio Code IDE from terminal |\n",
    "| `git` | Version control system |\n",
    "| `nano` | Terminal text editor |\n",
    "\n",
    "Built-in Linux commands that you should be familiar are listed in the table below:\n",
    "\n",
    "| Command | Description |\n",
    "| --- | --- |\n",
    "| `ls` | List files and directories |\n",
    "| `cd` | Change directory |\n",
    "| `pwd` | Print working directory |\n",
    "| `cp` | Copy files and directories |\n",
    "| `mv` | Move/rename files and directories |\n",
    "| `rm` | Remove files and directories |\n",
    "| `mkdir` | Create directories |\n",
    "| `cat` | Concatenate and display file content |\n",
    "| `less` | View file content |\n",
    "| `echo` | Display line of text/string |\n",
    "| `man` | Display the manual of a command |\n",
    "| `source` | Run commands from a file |"
   ]
  }
 ],
 "metadata": {
  "kernelspec": {
   "display_name": "Python 3",
   "language": "python",
   "name": "python3"
  },
  "language_info": {
   "codemirror_mode": {
    "name": "ipython",
    "version": 3
   },
   "file_extension": ".py",
   "mimetype": "text/x-python",
   "name": "python",
   "nbconvert_exporter": "python",
   "pygments_lexer": "ipython3",
   "version": "3.10.12"
  }
 },
 "nbformat": 4,
 "nbformat_minor": 2
}
